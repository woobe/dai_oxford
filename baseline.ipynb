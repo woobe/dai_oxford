{
 "cells": [
  {
   "cell_type": "code",
   "execution_count": 1,
   "metadata": {
    "collapsed": true
   },
   "outputs": [],
   "source": [
    "# Import modules\n",
    "import pandas as pd\n",
    "import h2o"
   ]
  },
  {
   "cell_type": "code",
   "execution_count": 2,
   "metadata": {},
   "outputs": [
    {
     "name": "stdout",
     "output_type": "stream",
     "text": [
      "Checking whether there is an H2O instance running at http://localhost:54321..... not found.\n",
      "Attempting to start a local H2O server...\n",
      "  Java Version: java version \"1.8.0_72\"; Java(TM) SE Runtime Environment (build 1.8.0_72-b15); Java HotSpot(TM) 64-Bit Server VM (build 25.72-b15, mixed mode)\n",
      "  Starting server from /Users/jofaichow/anaconda/lib/python3.6/site-packages/h2o/backend/bin/h2o.jar\n",
      "  Ice root: /var/folders/4z/p7yt7_4n4fj1jlyq6g4qhfbw0000gn/T/tmpho0r2p20\n",
      "  JVM stdout: /var/folders/4z/p7yt7_4n4fj1jlyq6g4qhfbw0000gn/T/tmpho0r2p20/h2o_jofaichow_started_from_python.out\n",
      "  JVM stderr: /var/folders/4z/p7yt7_4n4fj1jlyq6g4qhfbw0000gn/T/tmpho0r2p20/h2o_jofaichow_started_from_python.err\n",
      "  Server is running at http://127.0.0.1:54321\n",
      "Connecting to H2O server at http://127.0.0.1:54321... successful.\n",
      "Warning: Your H2O cluster version is too old (4 months)! Please download and install the latest version from http://h2o.ai/download/\n"
     ]
    },
    {
     "data": {
      "text/html": [
       "<div style=\"overflow:auto\"><table style=\"width:50%\"><tr><td>H2O cluster uptime:</td>\n",
       "<td>01 secs</td></tr>\n",
       "<tr><td>H2O cluster version:</td>\n",
       "<td>3.14.0.6</td></tr>\n",
       "<tr><td>H2O cluster version age:</td>\n",
       "<td>4 months !!!</td></tr>\n",
       "<tr><td>H2O cluster name:</td>\n",
       "<td>H2O_from_python_jofaichow_6rld0a</td></tr>\n",
       "<tr><td>H2O cluster total nodes:</td>\n",
       "<td>1</td></tr>\n",
       "<tr><td>H2O cluster free memory:</td>\n",
       "<td>3.556 Gb</td></tr>\n",
       "<tr><td>H2O cluster total cores:</td>\n",
       "<td>8</td></tr>\n",
       "<tr><td>H2O cluster allowed cores:</td>\n",
       "<td>8</td></tr>\n",
       "<tr><td>H2O cluster status:</td>\n",
       "<td>accepting new members, healthy</td></tr>\n",
       "<tr><td>H2O connection url:</td>\n",
       "<td>http://127.0.0.1:54321</td></tr>\n",
       "<tr><td>H2O connection proxy:</td>\n",
       "<td>None</td></tr>\n",
       "<tr><td>H2O internal security:</td>\n",
       "<td>False</td></tr>\n",
       "<tr><td>H2O API Extensions:</td>\n",
       "<td>XGBoost, Algos, AutoML, Core V3, Core V4</td></tr>\n",
       "<tr><td>Python version:</td>\n",
       "<td>3.6.1 final</td></tr></table></div>"
      ],
      "text/plain": [
       "--------------------------  ----------------------------------------\n",
       "H2O cluster uptime:         01 secs\n",
       "H2O cluster version:        3.14.0.6\n",
       "H2O cluster version age:    4 months !!!\n",
       "H2O cluster name:           H2O_from_python_jofaichow_6rld0a\n",
       "H2O cluster total nodes:    1\n",
       "H2O cluster free memory:    3.556 Gb\n",
       "H2O cluster total cores:    8\n",
       "H2O cluster allowed cores:  8\n",
       "H2O cluster status:         accepting new members, healthy\n",
       "H2O connection url:         http://127.0.0.1:54321\n",
       "H2O connection proxy:\n",
       "H2O internal security:      False\n",
       "H2O API Extensions:         XGBoost, Algos, AutoML, Core V3, Core V4\n",
       "Python version:             3.6.1 final\n",
       "--------------------------  ----------------------------------------"
      ]
     },
     "metadata": {},
     "output_type": "display_data"
    }
   ],
   "source": [
    "# Start a local H2O cluster\n",
    "h2o.init(nthreads = -1)"
   ]
  },
  {
   "cell_type": "code",
   "execution_count": 3,
   "metadata": {},
   "outputs": [
    {
     "name": "stdout",
     "output_type": "stream",
     "text": [
      "Parse progress: |█████████████████████████████████████████████████████████| 100%\n",
      "Parse progress: |█████████████████████████████████████████████████████████| 100%\n"
     ]
    }
   ],
   "source": [
    "# Import data as H2O Data Frame\n",
    "h_train = h2o.import_file(\"./data/train.csv\")\n",
    "h_test = h2o.import_file(\"./data/test.csv\")"
   ]
  },
  {
   "cell_type": "code",
   "execution_count": 4,
   "metadata": {},
   "outputs": [
    {
     "data": {
      "text/plain": [
       "['MSSubClass',\n",
       " 'MSZoning',\n",
       " 'LotFrontage',\n",
       " 'LotArea',\n",
       " 'Street',\n",
       " 'Alley',\n",
       " 'LotShape',\n",
       " 'LandContour',\n",
       " 'Utilities',\n",
       " 'LotConfig',\n",
       " 'LandSlope',\n",
       " 'Neighborhood',\n",
       " 'Condition1',\n",
       " 'Condition2',\n",
       " 'BldgType',\n",
       " 'HouseStyle',\n",
       " 'OverallQual',\n",
       " 'OverallCond',\n",
       " 'YearBuilt',\n",
       " 'YearRemodAdd',\n",
       " 'RoofStyle',\n",
       " 'RoofMatl',\n",
       " 'Exterior1st',\n",
       " 'Exterior2nd',\n",
       " 'MasVnrType',\n",
       " 'MasVnrArea',\n",
       " 'ExterQual',\n",
       " 'ExterCond',\n",
       " 'Foundation',\n",
       " 'BsmtQual',\n",
       " 'BsmtCond',\n",
       " 'BsmtExposure',\n",
       " 'BsmtFinType1',\n",
       " 'BsmtFinSF1',\n",
       " 'BsmtFinType2',\n",
       " 'BsmtFinSF2',\n",
       " 'BsmtUnfSF',\n",
       " 'TotalBsmtSF',\n",
       " 'Heating',\n",
       " 'HeatingQC',\n",
       " 'CentralAir',\n",
       " 'Electrical',\n",
       " '1stFlrSF',\n",
       " '2ndFlrSF',\n",
       " 'LowQualFinSF',\n",
       " 'GrLivArea',\n",
       " 'BsmtFullBath',\n",
       " 'BsmtHalfBath',\n",
       " 'FullBath',\n",
       " 'HalfBath',\n",
       " 'BedroomAbvGr',\n",
       " 'KitchenAbvGr',\n",
       " 'KitchenQual',\n",
       " 'TotRmsAbvGrd',\n",
       " 'Functional',\n",
       " 'Fireplaces',\n",
       " 'FireplaceQu',\n",
       " 'GarageType',\n",
       " 'GarageYrBlt',\n",
       " 'GarageFinish',\n",
       " 'GarageCars',\n",
       " 'GarageArea',\n",
       " 'GarageQual',\n",
       " 'GarageCond',\n",
       " 'PavedDrive',\n",
       " 'WoodDeckSF',\n",
       " 'OpenPorchSF',\n",
       " 'EnclosedPorch',\n",
       " '3SsnPorch',\n",
       " 'ScreenPorch',\n",
       " 'PoolArea',\n",
       " 'PoolQC',\n",
       " 'Fence',\n",
       " 'MiscFeature',\n",
       " 'MiscVal',\n",
       " 'MoSold',\n",
       " 'YrSold',\n",
       " 'SaleType',\n",
       " 'SaleCondition']"
      ]
     },
     "execution_count": 4,
     "metadata": {},
     "output_type": "execute_result"
    }
   ],
   "source": [
    "# Define features (or predictors) - notes: exclude 'Id' and target 'SalePrice' \n",
    "features = h_train.col_names\n",
    "features.remove('Id')\n",
    "features.remove('SalePrice')\n",
    "features"
   ]
  },
  {
   "cell_type": "code",
   "execution_count": 5,
   "metadata": {},
   "outputs": [
    {
     "name": "stdout",
     "output_type": "stream",
     "text": [
      "drf Model Build progress: |███████████████████████████████████████████████| 100%\n"
     ]
    }
   ],
   "source": [
    "# Build a Distributed Random Forest (DRF) model with default settings\n",
    "\n",
    "# Import the function for DRF\n",
    "from h2o.estimators.random_forest import H2ORandomForestEstimator\n",
    "\n",
    "# Set up DRF for regression with 5-fold cross-validation\n",
    "# Add a seed for reproducibility\n",
    "drf_baseline = H2ORandomForestEstimator(model_id = 'drf_default', \n",
    "                                        nfolds = 5, \n",
    "                                        seed = 1234)\n",
    "\n",
    "# Use .train() to build the model\n",
    "drf_baseline.train(x = features, \n",
    "                   y = 'SalePrice', \n",
    "                   training_frame = h_train)"
   ]
  },
  {
   "cell_type": "code",
   "execution_count": 6,
   "metadata": {},
   "outputs": [
    {
     "name": "stdout",
     "output_type": "stream",
     "text": [
      "Model Details\n",
      "=============\n",
      "H2ORandomForestEstimator :  Distributed Random Forest\n",
      "Model Key:  drf_default\n",
      "\n",
      "\n",
      "ModelMetricsRegression: drf\n",
      "** Reported on train data. **\n",
      "\n",
      "MSE: 837934511.4267565\n",
      "RMSE: 28947.098497548188\n",
      "MAE: 16824.085178911897\n",
      "RMSLE: 0.13965617775881853\n",
      "Mean Residual Deviance: 837934511.4267565\n",
      "\n",
      "ModelMetricsRegression: drf\n",
      "** Reported on cross-validation data. **\n",
      "\n",
      "MSE: 814775750.9682842\n",
      "RMSE: 28544.277026547446\n",
      "MAE: 17009.127417487158\n",
      "RMSLE: 0.14037094407475256\n",
      "Mean Residual Deviance: 814775750.9682842\n",
      "Cross-Validation Metrics Summary: \n"
     ]
    },
    {
     "data": {
      "text/html": [
       "<div style=\"overflow:auto\"><table style=\"width:50%\"><tr><td><b></b></td>\n",
       "<td><b>mean</b></td>\n",
       "<td><b>sd</b></td>\n",
       "<td><b>cv_1_valid</b></td>\n",
       "<td><b>cv_2_valid</b></td>\n",
       "<td><b>cv_3_valid</b></td>\n",
       "<td><b>cv_4_valid</b></td>\n",
       "<td><b>cv_5_valid</b></td></tr>\n",
       "<tr><td>mae</td>\n",
       "<td>17035.605</td>\n",
       "<td>1075.0117</td>\n",
       "<td>15295.1875000</td>\n",
       "<td>15951.877</td>\n",
       "<td>16214.911</td>\n",
       "<td>18994.043</td>\n",
       "<td>18722.012</td></tr>\n",
       "<tr><td>mean_residual_deviance</td>\n",
       "<td>816360580.0000000</td>\n",
       "<td>150756736.0000000</td>\n",
       "<td>632738750.0000000</td>\n",
       "<td>747103230.0000000</td>\n",
       "<td>616277820.0000000</td>\n",
       "<td>1194732930.0000000</td>\n",
       "<td>890950080.0000000</td></tr>\n",
       "<tr><td>mse</td>\n",
       "<td>816360580.0000000</td>\n",
       "<td>150756736.0000000</td>\n",
       "<td>632738750.0000000</td>\n",
       "<td>747103230.0000000</td>\n",
       "<td>616277820.0000000</td>\n",
       "<td>1194732930.0000000</td>\n",
       "<td>890950080.0000000</td></tr>\n",
       "<tr><td>r2</td>\n",
       "<td>0.8717843</td>\n",
       "<td>0.0165829</td>\n",
       "<td>0.8779815</td>\n",
       "<td>0.8840764</td>\n",
       "<td>0.8959165</td>\n",
       "<td>0.8273461</td>\n",
       "<td>0.8736007</td></tr>\n",
       "<tr><td>residual_deviance</td>\n",
       "<td>816360580.0000000</td>\n",
       "<td>150756736.0000000</td>\n",
       "<td>632738750.0000000</td>\n",
       "<td>747103230.0000000</td>\n",
       "<td>616277820.0000000</td>\n",
       "<td>1194732930.0000000</td>\n",
       "<td>890950080.0000000</td></tr>\n",
       "<tr><td>rmse</td>\n",
       "<td>28345.225</td>\n",
       "<td>2540.5469</td>\n",
       "<td>25154.299</td>\n",
       "<td>27333.19</td>\n",
       "<td>24824.943</td>\n",
       "<td>34564.91</td>\n",
       "<td>29848.787</td></tr>\n",
       "<tr><td>rmsle</td>\n",
       "<td>0.1396314</td>\n",
       "<td>0.0126747</td>\n",
       "<td>0.1264608</td>\n",
       "<td>0.1210312</td>\n",
       "<td>0.1289151</td>\n",
       "<td>0.1549750</td>\n",
       "<td>0.1667752</td></tr></table></div>"
      ],
      "text/plain": [
       "                        mean         sd           cv_1_valid    cv_2_valid    cv_3_valid    cv_4_valid    cv_5_valid\n",
       "----------------------  -----------  -----------  ------------  ------------  ------------  ------------  ------------\n",
       "mae                     17035.6      1075.01      15295.2       15951.9       16214.9       18994         18722\n",
       "mean_residual_deviance  8.16361e+08  1.50757e+08  6.32739e+08   7.47103e+08   6.16278e+08   1.19473e+09   8.9095e+08\n",
       "mse                     8.16361e+08  1.50757e+08  6.32739e+08   7.47103e+08   6.16278e+08   1.19473e+09   8.9095e+08\n",
       "r2                      0.871784     0.0165829    0.877982      0.884076      0.895917      0.827346      0.873601\n",
       "residual_deviance       8.16361e+08  1.50757e+08  6.32739e+08   7.47103e+08   6.16278e+08   1.19473e+09   8.9095e+08\n",
       "rmse                    28345.2      2540.55      25154.3       27333.2       24824.9       34564.9       29848.8\n",
       "rmsle                   0.139631     0.0126747    0.126461      0.121031      0.128915      0.154975      0.166775"
      ]
     },
     "metadata": {},
     "output_type": "display_data"
    },
    {
     "name": "stdout",
     "output_type": "stream",
     "text": [
      "Scoring History: \n"
     ]
    },
    {
     "data": {
      "text/html": [
       "<div style=\"overflow:auto\"><table style=\"width:50%\"><tr><td><b></b></td>\n",
       "<td><b>timestamp</b></td>\n",
       "<td><b>duration</b></td>\n",
       "<td><b>number_of_trees</b></td>\n",
       "<td><b>training_rmse</b></td>\n",
       "<td><b>training_mae</b></td>\n",
       "<td><b>training_deviance</b></td></tr>\n",
       "<tr><td></td>\n",
       "<td>2018-02-10 07:54:20</td>\n",
       "<td>14.149 sec</td>\n",
       "<td>0.0</td>\n",
       "<td>nan</td>\n",
       "<td>nan</td>\n",
       "<td>nan</td></tr>\n",
       "<tr><td></td>\n",
       "<td>2018-02-10 07:54:20</td>\n",
       "<td>14.255 sec</td>\n",
       "<td>1.0</td>\n",
       "<td>39921.0692468</td>\n",
       "<td>27332.7191651</td>\n",
       "<td>1593691769.8083491</td></tr>\n",
       "<tr><td></td>\n",
       "<td>2018-02-10 07:54:20</td>\n",
       "<td>14.310 sec</td>\n",
       "<td>2.0</td>\n",
       "<td>42055.6425565</td>\n",
       "<td>27512.5716783</td>\n",
       "<td>1768677070.8365386</td></tr>\n",
       "<tr><td></td>\n",
       "<td>2018-02-10 07:54:20</td>\n",
       "<td>14.363 sec</td>\n",
       "<td>3.0</td>\n",
       "<td>41223.2425973</td>\n",
       "<td>26505.5004372</td>\n",
       "<td>1699355730.2327383</td></tr>\n",
       "<tr><td></td>\n",
       "<td>2018-02-10 07:54:20</td>\n",
       "<td>14.416 sec</td>\n",
       "<td>4.0</td>\n",
       "<td>39749.5426415</td>\n",
       "<td>25397.6899911</td>\n",
       "<td>1580026140.2123084</td></tr>\n",
       "<tr><td>---</td>\n",
       "<td>---</td>\n",
       "<td>---</td>\n",
       "<td>---</td>\n",
       "<td>---</td>\n",
       "<td>---</td>\n",
       "<td>---</td></tr>\n",
       "<tr><td></td>\n",
       "<td>2018-02-10 07:54:22</td>\n",
       "<td>16.509 sec</td>\n",
       "<td>46.0</td>\n",
       "<td>29178.9714116</td>\n",
       "<td>16969.9368126</td>\n",
       "<td>851412372.6371613</td></tr>\n",
       "<tr><td></td>\n",
       "<td>2018-02-10 07:54:22</td>\n",
       "<td>16.555 sec</td>\n",
       "<td>47.0</td>\n",
       "<td>29052.7063699</td>\n",
       "<td>16885.4155057</td>\n",
       "<td>844059747.4181669</td></tr>\n",
       "<tr><td></td>\n",
       "<td>2018-02-10 07:54:22</td>\n",
       "<td>16.601 sec</td>\n",
       "<td>48.0</td>\n",
       "<td>28938.7698949</td>\n",
       "<td>16825.7123994</td>\n",
       "<td>837452403.0285465</td></tr>\n",
       "<tr><td></td>\n",
       "<td>2018-02-10 07:54:22</td>\n",
       "<td>16.648 sec</td>\n",
       "<td>49.0</td>\n",
       "<td>28922.2740730</td>\n",
       "<td>16843.6114655</td>\n",
       "<td>836497937.5527190</td></tr>\n",
       "<tr><td></td>\n",
       "<td>2018-02-10 07:54:22</td>\n",
       "<td>16.692 sec</td>\n",
       "<td>50.0</td>\n",
       "<td>28947.0984975</td>\n",
       "<td>16824.0851789</td>\n",
       "<td>837934511.4267565</td></tr></table></div>"
      ],
      "text/plain": [
       "     timestamp            duration    number_of_trees    training_rmse       training_mae        training_deviance\n",
       "---  -------------------  ----------  -----------------  ------------------  ------------------  -------------------\n",
       "     2018-02-10 07:54:20  14.149 sec  0.0                nan                 nan                 nan\n",
       "     2018-02-10 07:54:20  14.255 sec  1.0                39921.06924680687   27332.71916508539   1593691769.8083491\n",
       "     2018-02-10 07:54:20  14.310 sec  2.0                42055.64255645773   27512.571678321678  1768677070.8365386\n",
       "     2018-02-10 07:54:20  14.363 sec  3.0                41223.242597262266  26505.50043719586   1699355730.2327383\n",
       "     2018-02-10 07:54:20  14.416 sec  4.0                39749.542641548825  25397.689991127492  1580026140.2123084\n",
       "---  ---                  ---         ---                ---                 ---                 ---\n",
       "     2018-02-10 07:54:22  16.509 sec  46.0               29178.971411569004  16969.93681259262   851412372.6371613\n",
       "     2018-02-10 07:54:22  16.555 sec  47.0               29052.706369943695  16885.41550574011   844059747.4181669\n",
       "     2018-02-10 07:54:22  16.601 sec  48.0               28938.769894875393  16825.712399385167  837452403.0285465\n",
       "     2018-02-10 07:54:22  16.648 sec  49.0               28922.274072982556  16843.611465485585  836497937.552719\n",
       "     2018-02-10 07:54:22  16.692 sec  50.0               28947.098497548188  16824.085178911897  837934511.4267565"
      ]
     },
     "metadata": {},
     "output_type": "display_data"
    },
    {
     "name": "stdout",
     "output_type": "stream",
     "text": [
      "\n",
      "See the whole table with table.as_data_frame()\n",
      "Variable Importances: \n"
     ]
    },
    {
     "data": {
      "text/html": [
       "<div style=\"overflow:auto\"><table style=\"width:50%\"><tr><td><b>variable</b></td>\n",
       "<td><b>relative_importance</b></td>\n",
       "<td><b>scaled_importance</b></td>\n",
       "<td><b>percentage</b></td></tr>\n",
       "<tr><td>OverallQual</td>\n",
       "<td>86696372731904.0000000</td>\n",
       "<td>1.0</td>\n",
       "<td>0.2459078</td></tr>\n",
       "<tr><td>ExterQual</td>\n",
       "<td>41015142514688.0000000</td>\n",
       "<td>0.4730895</td>\n",
       "<td>0.1163364</td></tr>\n",
       "<tr><td>GrLivArea</td>\n",
       "<td>38298697334784.0000000</td>\n",
       "<td>0.4417566</td>\n",
       "<td>0.1086314</td></tr>\n",
       "<tr><td>GarageCars</td>\n",
       "<td>38004643069952.0000000</td>\n",
       "<td>0.4383649</td>\n",
       "<td>0.1077973</td></tr>\n",
       "<tr><td>Neighborhood</td>\n",
       "<td>34224002301952.0000000</td>\n",
       "<td>0.3947570</td>\n",
       "<td>0.0970738</td></tr>\n",
       "<tr><td>---</td>\n",
       "<td>---</td>\n",
       "<td>---</td>\n",
       "<td>---</td></tr>\n",
       "<tr><td>MiscVal</td>\n",
       "<td>17048897536.0000000</td>\n",
       "<td>0.0001967</td>\n",
       "<td>0.0000484</td></tr>\n",
       "<tr><td>MiscFeature</td>\n",
       "<td>13933739008.0000000</td>\n",
       "<td>0.0001607</td>\n",
       "<td>0.0000395</td></tr>\n",
       "<tr><td>Condition2</td>\n",
       "<td>12257705984.0000000</td>\n",
       "<td>0.0001414</td>\n",
       "<td>0.0000348</td></tr>\n",
       "<tr><td>Street</td>\n",
       "<td>1516759296.0000000</td>\n",
       "<td>0.0000175</td>\n",
       "<td>0.0000043</td></tr>\n",
       "<tr><td>Utilities</td>\n",
       "<td>501974368.0000000</td>\n",
       "<td>0.0000058</td>\n",
       "<td>0.0000014</td></tr></table></div>"
      ],
      "text/plain": [
       "variable      relative_importance    scaled_importance       percentage\n",
       "------------  ---------------------  ----------------------  ----------------------\n",
       "OverallQual   86696372731904.0       1.0                     0.2459078271756887\n",
       "ExterQual     41015142514688.0       0.4730894871636833      0.11633640784808223\n",
       "GrLivArea     38298697334784.0       0.44175662865639354     0.10863141269335132\n",
       "GarageCars    38004643069952.0       0.4383648574026951      0.10779734959407736\n",
       "Neighborhood  34224002301952.0       0.3947570264304457      0.09707384263184682\n",
       "---           ---                    ---                     ---\n",
       "MiscVal       17048897536.0          0.00019665064406698134  4.835793259521112e-05\n",
       "MiscFeature   13933739008.0          0.00016071882327866328  3.952201661868958e-05\n",
       "Condition2    12257705984.0          0.00014138660704877682  3.4768073331107615e-05\n",
       "Street        1516759296.0           1.7495072148985504e-05  4.302175178438932e-06\n",
       "Utilities     501974368.0            5.7900273354259375e-06  1.4238130413424347e-06"
      ]
     },
     "metadata": {},
     "output_type": "display_data"
    },
    {
     "name": "stdout",
     "output_type": "stream",
     "text": [
      "\n",
      "See the whole table with table.as_data_frame()\n"
     ]
    },
    {
     "data": {
      "text/plain": []
     },
     "execution_count": 6,
     "metadata": {},
     "output_type": "execute_result"
    }
   ],
   "source": [
    "# Model Summary\n",
    "drf_baseline"
   ]
  },
  {
   "cell_type": "code",
   "execution_count": 7,
   "metadata": {},
   "outputs": [
    {
     "name": "stdout",
     "output_type": "stream",
     "text": [
      "drf prediction progress: |████████████████████████████████████████████████| 100%\n"
     ]
    },
    {
     "name": "stderr",
     "output_type": "stream",
     "text": [
      "/Users/jofaichow/anaconda/lib/python3.6/site-packages/h2o/job.py:69: UserWarning: Test/Validation dataset column 'MSZoning' has levels not trained on: [NA]\n",
      "  warnings.warn(w)\n",
      "/Users/jofaichow/anaconda/lib/python3.6/site-packages/h2o/job.py:69: UserWarning: Test/Validation dataset column 'Utilities' has levels not trained on: [NA]\n",
      "  warnings.warn(w)\n",
      "/Users/jofaichow/anaconda/lib/python3.6/site-packages/h2o/job.py:69: UserWarning: Test/Validation dataset column 'Exterior1st' has levels not trained on: [NA]\n",
      "  warnings.warn(w)\n",
      "/Users/jofaichow/anaconda/lib/python3.6/site-packages/h2o/job.py:69: UserWarning: Test/Validation dataset column 'Exterior2nd' has levels not trained on: [NA]\n",
      "  warnings.warn(w)\n",
      "/Users/jofaichow/anaconda/lib/python3.6/site-packages/h2o/job.py:69: UserWarning: Test/Validation dataset column 'KitchenQual' has levels not trained on: [NA]\n",
      "  warnings.warn(w)\n",
      "/Users/jofaichow/anaconda/lib/python3.6/site-packages/h2o/job.py:69: UserWarning: Test/Validation dataset column 'Functional' has levels not trained on: [NA]\n",
      "  warnings.warn(w)\n",
      "/Users/jofaichow/anaconda/lib/python3.6/site-packages/h2o/job.py:69: UserWarning: Test/Validation dataset column 'SaleType' has levels not trained on: [NA]\n",
      "  warnings.warn(w)\n"
     ]
    }
   ],
   "source": [
    "# Make predictions\n",
    "yhat_test = drf_baseline.predict(h_test)\n",
    "yhat_test = yhat_test.as_data_frame()"
   ]
  },
  {
   "cell_type": "code",
   "execution_count": 8,
   "metadata": {},
   "outputs": [
    {
     "data": {
      "text/html": [
       "<div>\n",
       "<style>\n",
       "    .dataframe thead tr:only-child th {\n",
       "        text-align: right;\n",
       "    }\n",
       "\n",
       "    .dataframe thead th {\n",
       "        text-align: left;\n",
       "    }\n",
       "\n",
       "    .dataframe tbody tr th {\n",
       "        vertical-align: top;\n",
       "    }\n",
       "</style>\n",
       "<table border=\"1\" class=\"dataframe\">\n",
       "  <thead>\n",
       "    <tr style=\"text-align: right;\">\n",
       "      <th></th>\n",
       "      <th>Id</th>\n",
       "      <th>SalePrice</th>\n",
       "    </tr>\n",
       "  </thead>\n",
       "  <tbody>\n",
       "    <tr>\n",
       "      <th>0</th>\n",
       "      <td>1461</td>\n",
       "      <td>124430.333281</td>\n",
       "    </tr>\n",
       "    <tr>\n",
       "      <th>1</th>\n",
       "      <td>1462</td>\n",
       "      <td>155592.000000</td>\n",
       "    </tr>\n",
       "    <tr>\n",
       "      <th>2</th>\n",
       "      <td>1463</td>\n",
       "      <td>177635.099062</td>\n",
       "    </tr>\n",
       "    <tr>\n",
       "      <th>3</th>\n",
       "      <td>1464</td>\n",
       "      <td>185549.633437</td>\n",
       "    </tr>\n",
       "    <tr>\n",
       "      <th>4</th>\n",
       "      <td>1465</td>\n",
       "      <td>187703.900000</td>\n",
       "    </tr>\n",
       "  </tbody>\n",
       "</table>\n",
       "</div>"
      ],
      "text/plain": [
       "     Id      SalePrice\n",
       "0  1461  124430.333281\n",
       "1  1462  155592.000000\n",
       "2  1463  177635.099062\n",
       "3  1464  185549.633437\n",
       "4  1465  187703.900000"
      ]
     },
     "execution_count": 8,
     "metadata": {},
     "output_type": "execute_result"
    }
   ],
   "source": [
    "# Create Kaggle Submission\n",
    "d_sub = pd.read_csv(\"./data/sample_submission.csv\")\n",
    "d_sub = pd.concat([d_sub['Id'].reset_index(drop=True), yhat_test], axis=1)\n",
    "d_sub.columns = ['Id', 'SalePrice']\n",
    "d_sub.head(5)"
   ]
  },
  {
   "cell_type": "code",
   "execution_count": 9,
   "metadata": {
    "collapsed": true
   },
   "outputs": [],
   "source": [
    "# Write to CSV\n",
    "d_sub.to_csv(\"./kaggle_submission/baseline_submission.csv\", index = False)"
   ]
  }
 ],
 "metadata": {
  "kernelspec": {
   "display_name": "Python 3",
   "language": "python",
   "name": "python3"
  },
  "language_info": {
   "codemirror_mode": {
    "name": "ipython",
    "version": 3
   },
   "file_extension": ".py",
   "mimetype": "text/x-python",
   "name": "python",
   "nbconvert_exporter": "python",
   "pygments_lexer": "ipython3",
   "version": "3.6.1"
  }
 },
 "nbformat": 4,
 "nbformat_minor": 2
}
